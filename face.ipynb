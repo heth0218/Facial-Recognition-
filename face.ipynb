from keras.models import Sequential
from keras.layers import Conv2D, ZeroPadding2D, Activation, Input, concatenate
from keras.models import Model
from keras.layers.normalization import BatchNormalization
from keras.layers.pooling import MaxPooling2D, AveragePooling2D
from keras.layers.merge import Concatenate
from keras.layers.core import Lambda, Flatten, Dense
from keras.initializers import glorot_uniform
from keras.engine.topology import Layer
from keras import backend as K
K.set_image_data_format('channels_first')
import cv2
import os
import numpy as np
from numpy import genfromtxt
import pandas as pd
import tensorflow as tf
from fr_utils import *
from inception_blocks_v2 import *

%matplotlib inline
%load_ext autoreload
%autoreload 2

import tensorflow as tf
import keras.backend.tensorflow_backend as tfback
print("tf.__version__ is", tf.__version__)
print("tf.keras.__version__ is:", tf.keras.__version__)

def _get_available_gpus():
    if tfback._LOCAL_DEVICES is None:
        devices = tf.config.list_logical_devices()
        tfback._LOCAL_DEVICES = [x.name for x in devices]
    return [x for x in tfback._LOCAL_DEVICES if 'device:gpu' in x.lower()]

tfback._get_available_gpus = _get_available_gpus

FRmodel = faceRecoModel(input_shape=(3, 96, 96))

print("Total Params:", FRmodel.count_params())

def triplet_loss(y_true, y_pred, alpha = 0.2):
    
    anchor, positive, negative = y_pred[0], y_pred[1], y_pred[2]
    
    pos_dist = (tf.reduce_sum((anchor-positive) ** 2,axis=-1))
    neg_dist = (tf.reduce_sum((anchor-negative) ** 2,axis=-1))
    basic_loss = pos_dist - neg_dist + alpha
    loss = tf.reduce_sum(tf.maximum(0.0,basic_loss))
    
    return loss

FRmodel.compile(optimizer = 'adam', loss = triplet_loss, metrics = ['accuracy'])
load_weights_from_FaceNet(FRmodel)


database = {}
database["mihir"] = img_to_encoding("images/mihir1.jpeg", FRmodel)
database["heth"] = img_to_encoding("images/heth1.jpeg", FRmodel)
database["jash"] = img_to_encoding("images/jash5.jpeg", FRmodel)


def verify(image_path, identity, database, model):
    encoding = img_to_encoding(image_path, model)
    
    dist = np.linalg.norm(encoding - database[identity])
    
    if dist < 0.7:
        print("It's " + str(identity) + ", welcome to the office!")
        door_open = True
    else:
        print("It's not " + str(identity) + ", please go away")
        door_open = False
        
        
    return dist, door_open

verify("images/mihir2.jpg", "mihir", database, FRmodel)

def who_is_it(image_path, database, model):
    
    encoding = img_to_encoding(image_path, model)
    
    min_dist = 100
    
    for (name, db_enc) in database.items():
        
        dist = np.linalg.norm(encoding - database[name])

        if dist < min_dist:
            min_dist = dist
            identity = name
    
    if min_dist > 0.7:
        print("Not in the database.")
    else:
        print ("it's " + str(identity) + ", the distance is " + str(min_dist))
        
    return min_dist, identity


who_is_it("images/mihir2.jpeg", database, FRmodel)


///Resize image before putting it in
import cv2
import glob
import os

from PIL import Image

img = Image.open('images/jasht.jpeg')
new_width  = 96
new_height = 96
img = img.resize((new_width, new_height), Image.ANTIALIAS)
img.save('jasht.jpeg') 
os.remove('images/jasht.jpeg')
img.resize((96,96), PIL.Image.ANTIALIAS)

img.save('images/jasht.jpeg')




